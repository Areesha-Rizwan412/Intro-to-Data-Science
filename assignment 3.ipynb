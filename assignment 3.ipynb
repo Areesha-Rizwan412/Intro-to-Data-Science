{
 "cells": [
  {
   "cell_type": "code",
   "execution_count": 23,
   "id": "0aa7c296",
   "metadata": {},
   "outputs": [
    {
     "data": {
      "text/plain": [
       "[{'client': 'Alice', 'amount': 250.5},\n",
       " {'client': 'Charlie', 'amount': 450},\n",
       " {'client': 'Daisy', 'amount': 100.0}]"
      ]
     },
     "execution_count": 23,
     "metadata": {},
     "output_type": "execute_result"
    }
   ],
   "source": [
    "\n",
    "# Task 1: E-commerce Data Processing\n",
    "\n",
    "# Part A: Data Validation\n",
    "orders = [\n",
    "    {\"client\": \"Alice\", \"amount\": 250.5},\n",
    "    {\"client\": \"Bob\", \"amount\": \"invalid_data\"},\n",
    "    {\"client\": \"Charlie\", \"amount\": 450},\n",
    "    {\"client\": \"Daisy\", \"amount\": 100.0},\n",
    "    {\"client\": \"Eve\", \"amount\": -30},  # Invalid total\n",
    "]\n",
    "\n",
    "def validate_orders(orders):\n",
    "    def check_order(order):\n",
    "        try:\n",
    "            return isinstance(order['amount'], (int, float)) and order['amount'] >= 0\n",
    "        except Exception:\n",
    "            return False\n",
    "\n",
    "    return list(filter(lambda order: check_order(order), orders))\n",
    "\n",
    "valid_orders = validate_orders(orders)\n",
    "valid_orders\n",
    "    "
   ]
  },
  {
   "cell_type": "code",
   "execution_count": 24,
   "id": "a1e80a38",
   "metadata": {},
   "outputs": [
    {
     "data": {
      "text/plain": [
       "[{'client': 'Alice', 'amount': 250.5},\n",
       " {'client': 'Charlie', 'amount': 405.0},\n",
       " {'client': 'Daisy', 'amount': 100.0}]"
      ]
     },
     "execution_count": 24,
     "metadata": {},
     "output_type": "execute_result"
    }
   ],
   "source": [
    "\n",
    "# Part B: Discount Application\n",
    "def apply_discount(orders):\n",
    "    return list(map(lambda order: {\"client\": order[\"client\"], \"amount\": order[\"amount\"] * 0.9} if order[\"amount\"] > 300 else order, orders))\n",
    "\n",
    "discounted_orders = apply_discount(valid_orders)\n",
    "discounted_orders\n",
    "    "
   ]
  },
  {
   "cell_type": "code",
   "execution_count": 30,
   "id": "52040c50",
   "metadata": {},
   "outputs": [
    {
     "data": {
      "text/plain": [
       "755.5"
      ]
     },
     "execution_count": 30,
     "metadata": {},
     "output_type": "execute_result"
    }
   ],
   "source": [
    "\n",
    "# Part C: Total Sales Calculation\n",
    "def calculate_total_sales(orders):\n",
    "    return reduce(lambda total, order: total + order[\"amount\"], orders, 0)\n",
    "\n",
    "total_sales = calculate_total_sales(discounted_orders)\n",
    "total_sales\n",
    "    "
   ]
  },
  {
   "cell_type": "code",
   "execution_count": 26,
   "id": "ef87db8d",
   "metadata": {},
   "outputs": [],
   "source": [
    "\n",
    "# Task 2: Iterator and Generator\n",
    "\n",
    "# Part A: Custom Iterator\n",
    "class PowerIterator:\n",
    "    def __init__(self, n):\n",
    "        self.num = n\n",
    "        self.i = 1\n",
    "\n",
    "    def __iter__(self):\n",
    "        return self\n",
    "\n",
    "    def __next__(self):\n",
    "        if self.i > self.num:\n",
    "            raise StopIteration\n",
    "        sqr = self.i ** 2\n",
    "        self.i += 1\n",
    "        return sqr\n",
    "    "
   ]
  },
  {
   "cell_type": "code",
   "execution_count": 27,
   "id": "29b60d0b",
   "metadata": {},
   "outputs": [],
   "source": [
    "\n",
    "# Part B: Fibonacci Generator\n",
    "def fib_generator(n):\n",
    "    prev, curr = 0, 1\n",
    "    for _ in range(n):\n",
    "        yield prev\n",
    "        prev, curr = curr, prev + curr\n",
    "    "
   ]
  },
  {
   "cell_type": "code",
   "execution_count": 28,
   "id": "529f37df",
   "metadata": {},
   "outputs": [],
   "source": [
    "\n",
    "# Task 3: Exception Handling and Function Decorator\n",
    "\n",
    "# Part A: Chained Exceptions\n",
    "class DivisionError(Exception):\n",
    "    pass\n",
    "\n",
    "def divide_numbers(numbers, divisor):\n",
    "    try:\n",
    "        if divisor == 0:\n",
    "            raise DivisionError(\"Dividing by zero is not allowed.\")\n",
    "        return [num / divisor for num in numbers]\n",
    "    except (ValueError, TypeError) as e:\n",
    "        raise DivisionError(f\"Error occurred: {e}\") from e\n",
    "    "
   ]
  },
  {
   "cell_type": "code",
   "execution_count": 29,
   "id": "937a45a7",
   "metadata": {},
   "outputs": [],
   "source": [
    "\n",
    "# Part B: Exception Logging Decorator\n",
    "import functools\n",
    "import logging\n",
    "\n",
    "\n",
    "def log_exceptions(func):\n",
    "    @functools.wraps(func)\n",
    "    def wrapper(*args, **kwargs):\n",
    "        try:\n",
    "            return func(*args, **kwargs)\n",
    "        except Exception as exc:\n",
    "            logging.error(f\"Error in {func.__name__}: {exc}\")\n",
    "            raise\n",
    "    return wrapper\n",
    "\n",
    "@log_exceptions\n",
    "def test_func():\n",
    "    raise TypeError(\"A test error\")\n",
    "    "
   ]
  }
 ],
 "metadata": {
  "kernelspec": {
   "display_name": "Python 3",
   "language": "python",
   "name": "python3"
  },
  "language_info": {
   "codemirror_mode": {
    "name": "ipython",
    "version": 3
   },
   "file_extension": ".py",
   "mimetype": "text/x-python",
   "name": "python",
   "nbconvert_exporter": "python",
   "pygments_lexer": "ipython3",
   "version": "3.11.9"
  }
 },
 "nbformat": 4,
 "nbformat_minor": 5
}
